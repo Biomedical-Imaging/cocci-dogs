{
 "cells": [
  {
   "cell_type": "code",
   "execution_count": 1,
   "metadata": {},
   "outputs": [
    {
     "name": "stdout",
     "output_type": "stream",
     "text": [
      "Collecting dicom\n",
      "  Downloading https://files.pythonhosted.org/packages/a0/51/6c3134fb6f33bb674b25929b8091a921d5ceedd571d79844ce5b244fab1d/dicom-0.9.9.post1.tar.gz (423kB)\n",
      "\u001b[K    100% |████████████████████████████████| 430kB 1.0MB/s \n",
      "\u001b[?25hBuilding wheels for collected packages: dicom\n",
      "  Running setup.py bdist_wheel for dicom ... \u001b[?25ldone\n",
      "\u001b[?25h  Stored in directory: /home/jott1/.cache/pip/wheels/4e/d2/a3/ca1790a3223c07110ce515272de55b890484fa39b82a3d040f\n",
      "Successfully built dicom\n",
      "Installing collected packages: dicom\n",
      "Successfully installed dicom-0.9.9.post1\n",
      "\u001b[33mYou are using pip version 8.1.2, however version 20.2.2 is available.\n",
      "You should consider upgrading via the 'pip install --upgrade pip' command.\u001b[0m\n"
     ]
    }
   ],
   "source": [
    "!pip install dicom --user"
   ]
  },
  {
   "cell_type": "code",
   "execution_count": 2,
   "metadata": {},
   "outputs": [],
   "source": [
    "import pydicom\n",
    "import numpy as np"
   ]
  },
  {
   "cell_type": "code",
   "execution_count": 3,
   "metadata": {},
   "outputs": [],
   "source": [
    "file = '/baldig/physicstest/ValleyFeverDogs/KnownCocciDogs/Jackson Tucker March 2013/20130312/1.2.840.114387.1058065637.41787.19859.47089.145742136997215.dcm'"
   ]
  },
  {
   "cell_type": "code",
   "execution_count": 4,
   "metadata": {},
   "outputs": [],
   "source": [
    "dataset = pydicom.dcmread(file)"
   ]
  },
  {
   "cell_type": "code",
   "execution_count": 5,
   "metadata": {},
   "outputs": [
    {
     "data": {
      "text/plain": [
       "Dataset.file_meta -------------------------------\n",
       "(0002, 0000) File Meta Information Group Length  UL: 208\n",
       "(0002, 0001) File Meta Information Version       OB: b'\\x00\\x01'\n",
       "(0002, 0002) Media Storage SOP Class UID         UI: Digital X-Ray Image Storage - For Presentation\n",
       "(0002, 0003) Media Storage SOP Instance UID      UI: 1.2.840.114387.1058065637.41787.19859.47089.145742136997215\n",
       "(0002, 0010) Transfer Syntax UID                 UI: JPEG Extended (Process 2 and 4)\n",
       "(0002, 0012) Implementation Class UID            UI: 1.2.276.0.7230010.3.0.3.6.0\n",
       "(0002, 0013) Implementation Version Name         SH: 'OFFIS_DCMTK_360'\n",
       "-------------------------------------------------\n",
       "(0008, 0008) Image Type                          CS: ['DERIVED', 'PRIMARY']\n",
       "(0008, 0012) Instance Creation Date              DA: '20130312'\n",
       "(0008, 0013) Instance Creation Time              TM: '154305.000000'\n",
       "(0008, 0016) SOP Class UID                       UI: Digital X-Ray Image Storage - For Presentation\n",
       "(0008, 0018) SOP Instance UID                    UI: 1.2.840.114387.1058065637.41787.19859.47089.145742136997215\n",
       "(0008, 0020) Study Date                          DA: '20130312'\n",
       "(0008, 0021) Series Date                         DA: '20130312'\n",
       "(0008, 0022) Acquisition Date                    DA: '20130312'\n",
       "(0008, 0023) Content Date                        DA: '20130312'\n",
       "(0008, 0030) Study Time                          TM: '153953.000000'\n",
       "(0008, 0031) Series Time                         TM: '153500.000000'\n",
       "(0008, 0032) Acquisition Time                    TM: '154305.000000'\n",
       "(0008, 0033) Content Time                        TM: '153953.000000'\n",
       "(0008, 0050) Accession Number                    SH: '0'\n",
       "(0008, 0060) Modality                            CS: 'DX'\n",
       "(0008, 0068) Presentation Intent Type            CS: 'FOR PRESENTATION'\n",
       "(0008, 0070) Manufacturer                        LO: 'Sound'\n",
       "(0008, 0080) Institution Name                    LO: 'Veterinary Specialty Center of Tucson'\n",
       "(0008, 0090) Referring Physician's Name          PN: 'VetLastName^VetFirstName'\n",
       "(0008, 1010) Station Name                        SH: 'DX17ACQ0000-00'\n",
       "(0008, 1030) Study Description                   LO: 'Thorax'\n",
       "(0008, 103e) Series Description                  LO: 'Thorax'\n",
       "(0008, 1048) Physician(s) of Record              PN: 'VetLastName^VetFirstName'\n",
       "(0008, 1090) Manufacturer's Model Name           LO: '4343R'\n",
       "(0008, 2111) Derivation Description              ST: 'Lossy compression with JPEG extended sequential 12 bit, IJG quality factor 90, compression ratio 3.5225'\n",
       "(0008, 2218)  Anatomic Region Sequence   1 item(s) ---- \n",
       "   (0008, 0100) Code Value                          SH: 'T-D3000'\n",
       "   (0008, 0102) Coding Scheme Designator            SH: 'SRT'\n",
       "   (0008, 0104) Code Meaning                        LO: 'Chest'\n",
       "   ---------\n",
       "(0008, 9215)  Derivation Code Sequence   1 item(s) ---- \n",
       "   (0008, 0100) Code Value                          SH: '113040'\n",
       "   (0008, 0102) Coding Scheme Designator            SH: 'DCM'\n",
       "   (0008, 0104) Code Meaning                        LO: 'Lossy Compression'\n",
       "   ---------\n",
       "(0010, 0010) Patient's Name                      PN: 'TUCKER, JACKSON'\n",
       "(0010, 0020) Patient ID                          LO: '64193'\n",
       "(0010, 0030) Patient's Birth Date                DA: '20061218'\n",
       "(0010, 0032) Patient's Birth Time                TM: '000000.000000'\n",
       "(0010, 0040) Patient's Sex                       CS: 'M'\n",
       "(0010, 1010) Patient's Age                       AS: ''\n",
       "(0010, 1030) Patient's Weight                    DS: \"11.4090909090909\"\n",
       "(0010, 2201) Patient Species Description         LO: 'Canine'\n",
       "(0010, 2202)  Patient Species Code Sequence   1 item(s) ---- \n",
       "   (0008, 0100) Code Value                          SH: 'L-80700'\n",
       "   (0008, 0102) Coding Scheme Designator            SH: 'SRT'\n",
       "   (0008, 0104) Code Meaning                        LO: 'Canine species'\n",
       "   ---------\n",
       "(0010, 2203) Patient's Sex Neutered              CS: 'UNALTERED'\n",
       "(0010, 2292) Patient Breed Description           LO: 'BOSTON TERRIER'\n",
       "(0010, 2293)  Patient Breed Code Sequence   1 item(s) ---- \n",
       "   (0008, 0100) Code Value                          SH: 'L-80770'\n",
       "   (0008, 0102) Coding Scheme Designator            SH: 'SRT'\n",
       "   (0008, 0104) Code Meaning                        LO: 'Dachshund superbreed of dog'\n",
       "   ---------\n",
       "(0010, 2294)  Breed Registration Sequence   0 item(s) ---- \n",
       "(0010, 2297) Responsible Person                  PN: 'TUCKER^'\n",
       "(0010, 2298) Responsible Person Role             CS: 'OWNER'\n",
       "(0010, 2299) Responsible Organization            LO: ''\n",
       "(0018, 0015) Body Part Examined                  CS: ''\n",
       "(0018, 0060) KVP                                 DS: \"100.0\"\n",
       "(0018, 1000) Device Serial Number                LO: 'W2-T226J159NB01'\n",
       "(0018, 1020) Software Versions                   LO: '2.16.000.0'\n",
       "(0018, 1153) Exposure in uAs                     IS: \"1600000\"\n",
       "(0018, 1164) Imager Pixel Spacing                DS: [0.127, 0.127]\n",
       "(0018, 11a0) Body Part Thickness                 DS: None\n",
       "(0018, 1200) Date of Last Calibration            DA: '19000101'\n",
       "(0018, 1201) Time of Last Calibration            TM: '000000.000000'\n",
       "(0018, 1508) Positioner Type                     CS: ''\n",
       "(0018, 5101) View Position                       CS: 'RL'\n",
       "(0018, 7004) Detector Type                       CS: 'SCINTILLATOR'\n",
       "(0018, 7005) Detector Configuration              CS: 'AREA'\n",
       "(0018, 7006) Detector Description                LT: '4343R'\n",
       "(0018, 7008) Detector Mode                       LT: '0'\n",
       "(0018, 700a) Detector ID                         SH: 'W2-T226J159NB01'\n",
       "(0018, 700c) Date of Last Detector Calibration   DA: ''\n",
       "(0018, 700e) Time of Last Detector Calibration   TM: ''\n",
       "(0018, 7010) Exposures on Detector Since Last Ca IS: \"0\"\n",
       "(0018, 7011) Exposures on Detector Since Manufac IS: None\n",
       "(0018, 7012) Detector Time Since Last Exposure   DS: None\n",
       "(0018, 701a) Detector Binning                    DS: None\n",
       "(0018, 8150) Exposure Time in uS                 DS: \"4000.0\"\n",
       "(0018, 8151) X-Ray Tube Current in uA            DS: \"400000000.0\"\n",
       "(0020, 000d) Study Instance UID                  UI: 1.2.840.114387.3518834532.59887.17317.39411.153902107901795\n",
       "(0020, 000e) Series Instance UID                 UI: 1.2.840.114387.3955292564.54196.18188.48389.58962823387059\n",
       "(0020, 0010) Study ID                            SH: '1617'\n",
       "(0020, 0011) Series Number                       IS: \"1\"\n",
       "(0020, 0012) Acquisition Number                  IS: \"4\"\n",
       "(0020, 0013) Instance Number                     IS: \"4\"\n",
       "(0020, 0020) Patient Orientation                 CS: ['P', 'F']\n",
       "(0020, 0062) Image Laterality                    CS: 'U'\n",
       "(0020, 4000) Image Comments                      LT: ''\n",
       "(0028, 0002) Samples per Pixel                   US: 1\n",
       "(0028, 0004) Photometric Interpretation          CS: 'MONOCHROME2'\n",
       "(0028, 0010) Rows                                US: 1608\n",
       "(0028, 0011) Columns                             US: 2184\n",
       "(0028, 0030) Pixel Spacing                       DS: [0.127, 0.127]\n",
       "(0028, 0100) Bits Allocated                      US: 16\n",
       "(0028, 0101) Bits Stored                         US: 12\n",
       "(0028, 0102) High Bit                            US: 11\n",
       "(0028, 0103) Pixel Representation                US: 0\n",
       "(0028, 0301) Burned In Annotation                CS: 'NO'\n",
       "(0028, 1040) Pixel Intensity Relationship        CS: 'LIN'\n",
       "(0028, 1041) Pixel Intensity Relationship Sign   SS: -1\n",
       "(0028, 1050) Window Center                       DS: \"2060.12\"\n",
       "(0028, 1051) Window Width                        DS: \"4039.01\"\n",
       "(0028, 1052) Rescale Intercept                   DS: \"0.0\"\n",
       "(0028, 1053) Rescale Slope                       DS: \"1.0\"\n",
       "(0028, 1054) Rescale Type                        LO: 'US'\n",
       "(0028, 1055) Window Center & Width Explanation   LO: 'Image Windows Level'\n",
       "(0028, 2110) Lossy Image Compression             CS: '01'\n",
       "(0028, 2112) Lossy Image Compression Ratio       DS: \"3.5225\"\n",
       "(0028, 2114) Lossy Image Compression Method      CS: 'ISO_10918_1'\n",
       "(0040, 0555)  Acquisition Context Sequence   0 item(s) ---- \n",
       "(2050, 0020) Presentation LUT Shape              CS: 'IDENTITY'\n",
       "(7fe0, 0010) Pixel Data                          OB: Array of 1993968 elements\n",
       "(f001, 00f1) Private Creator                     LO: 'Sound Technologies'\n",
       "(f001, f102) [Patient Category Size]             UN: b'SmallMedium '\n",
       "(f001, f103) [Patient Sex Extended (including sp UN: b'M '\n",
       "(f001, f104) [Image View]                        UN: b'Lat Right '\n",
       "(f001, f105) [Anatomy Imaged]                    UN: b'Thorax'\n",
       "(f001, f106) [Image enhancements]                UN: Array of 64 elements\n",
       "(f001, f107) [Detector Settings]                 UN: b'W2-T226J159NB01 '\n",
       "(f001, f108) [Application Version]               UN: b'2.16.000.0'\n",
       "(f001, f109) [Image Laterality Extended]         UN: b'Lat Right '\n",
       "(f001, f10a) [Client Name]                       UN: b'TUCKER^ '\n",
       "(f001, f10c) [Reference Series Instance Uid]     UN: None\n",
       "(f001, f111) [Protocol]                          UN: None\n",
       "(f001, f11e) Private tag data                    UN: b'14'"
      ]
     },
     "execution_count": 5,
     "metadata": {},
     "output_type": "execute_result"
    }
   ],
   "source": [
    "dataset"
   ]
  },
  {
   "cell_type": "code",
   "execution_count": 32,
   "metadata": {},
   "outputs": [
    {
     "ename": "ValueError",
     "evalue": "cannot reshape array of size 249246 into shape (1608,2184)",
     "output_type": "error",
     "traceback": [
      "\u001b[0;31m---------------------------------------------------------------------------\u001b[0m",
      "\u001b[0;31mValueError\u001b[0m                                Traceback (most recent call last)",
      "\u001b[0;32m<ipython-input-32-632144c56fc3>\u001b[0m in \u001b[0;36m<module>\u001b[0;34m\u001b[0m\n\u001b[0;32m----> 1\u001b[0;31m \u001b[0mimg\u001b[0m\u001b[0;34m.\u001b[0m\u001b[0mreshape\u001b[0m\u001b[0;34m(\u001b[0m\u001b[0mdataset\u001b[0m\u001b[0;34m.\u001b[0m\u001b[0mRows\u001b[0m\u001b[0;34m,\u001b[0m \u001b[0mdataset\u001b[0m\u001b[0;34m.\u001b[0m\u001b[0mColumns\u001b[0m\u001b[0;34m)\u001b[0m\u001b[0;34m.\u001b[0m\u001b[0mshape\u001b[0m\u001b[0;34m\u001b[0m\u001b[0m\n\u001b[0m",
      "\u001b[0;31mValueError\u001b[0m: cannot reshape array of size 249246 into shape (1608,2184)"
     ]
    }
   ],
   "source": [
    "img.reshape(dataset.Rows, dataset.Columns).shape"
   ]
  },
  {
   "cell_type": "code",
   "execution_count": 33,
   "metadata": {},
   "outputs": [
    {
     "data": {
      "text/plain": [
       "3511872"
      ]
     },
     "execution_count": 33,
     "metadata": {},
     "output_type": "execute_result"
    }
   ],
   "source": [
    "dataset.Rows * dataset.Columns"
   ]
  },
  {
   "cell_type": "code",
   "execution_count": 11,
   "metadata": {},
   "outputs": [
    {
     "ename": "NotImplementedError",
     "evalue": "Unable to convert the pixel data as the transfer syntax is not supported by the numpy pixel data handler.",
     "output_type": "error",
     "traceback": [
      "\u001b[0;31m---------------------------------------------------------------------------\u001b[0m",
      "\u001b[0;31mNotImplementedError\u001b[0m                       Traceback (most recent call last)",
      "\u001b[0;32m<ipython-input-11-b7965eda63a0>\u001b[0m in \u001b[0;36m<module>\u001b[0;34m\u001b[0m\n\u001b[0;32m----> 1\u001b[0;31m \u001b[0mpydicom\u001b[0m\u001b[0;34m.\u001b[0m\u001b[0mpixel_data_handlers\u001b[0m\u001b[0;34m.\u001b[0m\u001b[0mnumpy_handler\u001b[0m\u001b[0;34m.\u001b[0m\u001b[0mget_pixeldata\u001b[0m\u001b[0;34m(\u001b[0m\u001b[0mdataset\u001b[0m\u001b[0;34m)\u001b[0m\u001b[0;34m\u001b[0m\u001b[0m\n\u001b[0m",
      "\u001b[0;32m~/.local/lib/python3.6/site-packages/pydicom/pixel_data_handlers/numpy_handler.py\u001b[0m in \u001b[0;36mget_pixeldata\u001b[0;34m(ds, read_only)\u001b[0m\n\u001b[1;32m    252\u001b[0m     \u001b[0;32mif\u001b[0m \u001b[0mtransfer_syntax\u001b[0m \u001b[0;32mnot\u001b[0m \u001b[0;32min\u001b[0m \u001b[0mSUPPORTED_TRANSFER_SYNTAXES\u001b[0m\u001b[0;34m:\u001b[0m\u001b[0;34m\u001b[0m\u001b[0m\n\u001b[1;32m    253\u001b[0m         raise NotImplementedError(\n\u001b[0;32m--> 254\u001b[0;31m             \u001b[0;34m\"Unable to convert the pixel data as the transfer syntax \"\u001b[0m\u001b[0;34m\u001b[0m\u001b[0m\n\u001b[0m\u001b[1;32m    255\u001b[0m             \u001b[0;34m\"is not supported by the numpy pixel data handler.\"\u001b[0m\u001b[0;34m\u001b[0m\u001b[0m\n\u001b[1;32m    256\u001b[0m         )\n",
      "\u001b[0;31mNotImplementedError\u001b[0m: Unable to convert the pixel data as the transfer syntax is not supported by the numpy pixel data handler."
     ]
    }
   ],
   "source": [
    "pydicom.pixel_data_handlers.numpy_handler.get_pixeldata(dataset)"
   ]
  },
  {
   "cell_type": "code",
   "execution_count": 1,
   "metadata": {},
   "outputs": [],
   "source": [
    "from pylibjpeg import decode"
   ]
  },
  {
   "cell_type": "code",
   "execution_count": 9,
   "metadata": {},
   "outputs": [
    {
     "ename": "ValueError",
     "evalue": "Unable to decode the data",
     "output_type": "error",
     "traceback": [
      "\u001b[0;31m---------------------------------------------------------------------------\u001b[0m",
      "\u001b[0;31mValueError\u001b[0m                                Traceback (most recent call last)",
      "\u001b[0;32m<ipython-input-9-2b0688c79ad6>\u001b[0m in \u001b[0;36m<module>\u001b[0;34m\u001b[0m\n\u001b[0;32m----> 1\u001b[0;31m \u001b[0mdecode\u001b[0m\u001b[0;34m(\u001b[0m\u001b[0mbs\u001b[0m\u001b[0;34m)\u001b[0m\u001b[0;34m\u001b[0m\u001b[0m\n\u001b[0m",
      "\u001b[0;32m~/.local/lib/python3.6/site-packages/pylibjpeg/utils.py\u001b[0m in \u001b[0;36mdecode\u001b[0;34m(data, decoder, kwargs)\u001b[0m\n\u001b[1;32m     83\u001b[0m \u001b[0;34m\u001b[0m\u001b[0m\n\u001b[1;32m     84\u001b[0m     \u001b[0;31m# If we made it here then we were unable to decode the data\u001b[0m\u001b[0;34m\u001b[0m\u001b[0;34m\u001b[0m\u001b[0m\n\u001b[0;32m---> 85\u001b[0;31m     \u001b[0;32mraise\u001b[0m \u001b[0mValueError\u001b[0m\u001b[0;34m(\u001b[0m\u001b[0;34m\"Unable to decode the data\"\u001b[0m\u001b[0;34m)\u001b[0m\u001b[0;34m\u001b[0m\u001b[0m\n\u001b[0m\u001b[1;32m     86\u001b[0m \u001b[0;34m\u001b[0m\u001b[0m\n\u001b[1;32m     87\u001b[0m \u001b[0;34m\u001b[0m\u001b[0m\n",
      "\u001b[0;31mValueError\u001b[0m: Unable to decode the data"
     ]
    }
   ],
   "source": [
    "decode(bs)"
   ]
  },
  {
   "cell_type": "code",
   "execution_count": 18,
   "metadata": {},
   "outputs": [
    {
     "ename": "RuntimeError",
     "evalue": "The pixel data handler 'gdcm_handler' is not available on your system. Please refer to the pydicom documentation for information on installing needed packages.",
     "output_type": "error",
     "traceback": [
      "\u001b[0;31m---------------------------------------------------------------------------\u001b[0m",
      "\u001b[0;31mRuntimeError\u001b[0m                              Traceback (most recent call last)",
      "\u001b[0;32m<ipython-input-18-f6ee5286dda8>\u001b[0m in \u001b[0;36m<module>\u001b[0;34m\u001b[0m\n\u001b[0;32m----> 1\u001b[0;31m \u001b[0mdataset\u001b[0m\u001b[0;34m.\u001b[0m\u001b[0mconvert_pixel_data\u001b[0m\u001b[0;34m(\u001b[0m\u001b[0;34m'gdcm_handler'\u001b[0m\u001b[0;34m)\u001b[0m\u001b[0;34m\u001b[0m\u001b[0m\n\u001b[0m",
      "\u001b[0;32m~/.local/lib/python3.6/site-packages/pydicom/dataset.py\u001b[0m in \u001b[0;36mconvert_pixel_data\u001b[0;34m(self, handler_name)\u001b[0m\n\u001b[1;32m   1320\u001b[0m \u001b[0;34m\u001b[0m\u001b[0m\n\u001b[1;32m   1321\u001b[0m         \u001b[0;32mif\u001b[0m \u001b[0mhandler_name\u001b[0m\u001b[0;34m:\u001b[0m\u001b[0;34m\u001b[0m\u001b[0m\n\u001b[0;32m-> 1322\u001b[0;31m             \u001b[0mself\u001b[0m\u001b[0;34m.\u001b[0m\u001b[0m_convert_pixel_data_using_handler\u001b[0m\u001b[0;34m(\u001b[0m\u001b[0mhandler_name\u001b[0m\u001b[0;34m)\u001b[0m\u001b[0;34m\u001b[0m\u001b[0m\n\u001b[0m\u001b[1;32m   1323\u001b[0m         \u001b[0;32melse\u001b[0m\u001b[0;34m:\u001b[0m\u001b[0;34m\u001b[0m\u001b[0m\n\u001b[1;32m   1324\u001b[0m             \u001b[0mself\u001b[0m\u001b[0;34m.\u001b[0m\u001b[0m_convert_pixel_data_without_handler\u001b[0m\u001b[0;34m(\u001b[0m\u001b[0;34m)\u001b[0m\u001b[0;34m\u001b[0m\u001b[0m\n",
      "\u001b[0;32m~/.local/lib/python3.6/site-packages/pydicom/dataset.py\u001b[0m in \u001b[0;36m_convert_pixel_data_using_handler\u001b[0;34m(self, name)\u001b[0m\n\u001b[1;32m   1355\u001b[0m                 \u001b[0;34m\"The pixel data handler '{0}' is not available on your system.\"\u001b[0m\u001b[0;34m\u001b[0m\u001b[0m\n\u001b[1;32m   1356\u001b[0m                 \u001b[0;34m\" Please refer to the pydicom documentation for information \"\u001b[0m\u001b[0;34m\u001b[0m\u001b[0m\n\u001b[0;32m-> 1357\u001b[0;31m                 \u001b[0;34m\"on installing needed packages.\"\u001b[0m\u001b[0;34m.\u001b[0m\u001b[0mformat\u001b[0m\u001b[0;34m(\u001b[0m\u001b[0mname\u001b[0m\u001b[0;34m)\u001b[0m\u001b[0;34m\u001b[0m\u001b[0m\n\u001b[0m\u001b[1;32m   1358\u001b[0m             )\n\u001b[1;32m   1359\u001b[0m         \u001b[0;31m# if the conversion fails, the exception is propagated up\u001b[0m\u001b[0;34m\u001b[0m\u001b[0;34m\u001b[0m\u001b[0m\n",
      "\u001b[0;31mRuntimeError\u001b[0m: The pixel data handler 'gdcm_handler' is not available on your system. Please refer to the pydicom documentation for information on installing needed packages."
     ]
    }
   ],
   "source": [
    "dataset.convert_pixel_data('gdcm_handler')"
   ]
  },
  {
   "cell_type": "code",
   "execution_count": null,
   "metadata": {},
   "outputs": [],
   "source": []
  }
 ],
 "metadata": {
  "kernelspec": {
   "display_name": "Python 3",
   "language": "python",
   "name": "python3"
  },
  "language_info": {
   "codemirror_mode": {
    "name": "ipython",
    "version": 3
   },
   "file_extension": ".py",
   "mimetype": "text/x-python",
   "name": "python",
   "nbconvert_exporter": "python",
   "pygments_lexer": "ipython3",
   "version": "3.6.1"
  }
 },
 "nbformat": 4,
 "nbformat_minor": 2
}
